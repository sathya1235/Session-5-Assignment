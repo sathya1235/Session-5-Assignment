{
 "cells": [
  {
   "cell_type": "code",
   "execution_count": null,
   "metadata": {},
   "outputs": [],
   "source": [
    "# 1. Write a function to compute 5/0 and use try/except to catch the exceptions."
   ]
  },
  {
   "cell_type": "code",
   "execution_count": 5,
   "metadata": {},
   "outputs": [
    {
     "name": "stdout",
     "output_type": "stream",
     "text": [
      "Division by zero Error!!\n",
      "Finally block executed!!\n"
     ]
    }
   ],
   "source": [
    "# function to compute 5/0 \n",
    "def compute_division():\n",
    "    return 5/0\n",
    "\n",
    "try:\n",
    "    compute_division() # calling function to compute 5/0 \n",
    "except ZeroDivisionError:  # invoked when a number is divided by 0\n",
    "    print('Division by zero Error!!')\n",
    "except Exception:          #invoked when other exception is caught\n",
    "    print('Caught an exception')\n",
    "finally:                   # gets executed everytime\n",
    "    print('Finally block executed!!')\n"
   ]
  },
  {
   "cell_type": "code",
   "execution_count": null,
   "metadata": {},
   "outputs": [],
   "source": [
    "# 2. Implement a Python program to generate all sentences \n",
    "# where subject is in [\"Americans\",\"Indians\"] and verb is in [\"Play\",\"watch\"] and the object is in [\"Baseball\",\"cricket\"].\n",
    "# Hint Subject,verb and Object should be declared in the program as shown below.\n",
    "# subjects=[\"Americans\",\"Indians\"]\n",
    "# verbs= [\"play\",\"watch\"]\n",
    "# objects=[\"Baseball\",\"cricket\"] \n",
    "\n",
    "#Output should come as below:  \n",
    "#Americans  play baseball. Americans  play Cricket. Americans  watch Baseball. Americans  watch Cricket. \n",
    "#Indians play Baseball. Indians play Cricket. Indians watch Baseball. Indians watch Cricket. "
   ]
  },
  {
   "cell_type": "code",
   "execution_count": 4,
   "metadata": {},
   "outputs": [
    {
     "name": "stdout",
     "output_type": "stream",
     "text": [
      "Americans play Baseball.\n",
      "Americans play Cricket.\n",
      "Americans watch Baseball.\n",
      "Americans watch Cricket.\n",
      "Indians play Baseball.\n",
      "Indians play Cricket.\n",
      "Indians watch Baseball.\n",
      "Indians watch Cricket.\n"
     ]
    }
   ],
   "source": [
    "subjects=[\"Americans\",\"Indians\"]\n",
    "verbs= [\"play\",\"watch\"]\n",
    "objects=[\"Baseball\",\"Cricket\"] \n",
    "\n",
    "# List comprehension of loops\n",
    "sentences_list=[sub+' '+verb+' '+obj+'.' for sub in subjects for verb in verbs for obj in objects]\n",
    "\n",
    "# For loop to print the sentences in the list\n",
    "for sentences in sentences_list:\n",
    "    print(sentences)\n",
    "            "
   ]
  }
 ],
 "metadata": {
  "kernelspec": {
   "display_name": "Python 3",
   "language": "python",
   "name": "python3"
  },
  "language_info": {
   "codemirror_mode": {
    "name": "ipython",
    "version": 3
   },
   "file_extension": ".py",
   "mimetype": "text/x-python",
   "name": "python",
   "nbconvert_exporter": "python",
   "pygments_lexer": "ipython3",
   "version": "3.7.0"
  }
 },
 "nbformat": 4,
 "nbformat_minor": 2
}
